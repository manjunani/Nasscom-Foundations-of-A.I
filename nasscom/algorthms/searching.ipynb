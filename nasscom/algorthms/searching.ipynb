{
  "nbformat": 4,
  "nbformat_minor": 0,
  "metadata": {
    "colab": {
      "name": "searching.ipynb",
      "provenance": [],
      "collapsed_sections": []
    },
    "kernelspec": {
      "name": "python3",
      "display_name": "Python 3"
    }
  },
  "cells": [
    {
      "cell_type": "code",
      "metadata": {
        "id": "kdSUNbtRHG8C",
        "colab_type": "code",
        "colab": {}
      },
      "source": [
        "def search_linear(array, target):\n",
        "\n",
        "    for i in range (len(array)):       \n",
        "\n",
        "        if (array[i] == target):\n",
        "\n",
        "            return i\n",
        "\n",
        "    return None\n",
        "\n",
        " \n",
        "\n",
        "target = 8\n",
        "\n",
        "array = [1, 0, 4, 2, 3, 5]\n",
        "\n",
        "result = search_linear(array, target)\n",
        "\n",
        "if result is not None:\n",
        "\n",
        "    print('Value {} found at position {} using linear search'.format(target, result+1))\n",
        "\n",
        "else:    print('Not found')"
      ],
      "execution_count": 0,
      "outputs": []
    },
    {
      "cell_type": "code",
      "metadata": {
        "id": "sPh3ZDSoHK-n",
        "colab_type": "code",
        "colab": {
          "base_uri": "https://localhost:8080/",
          "height": 34
        },
        "outputId": "e1edd09a-b07b-41a1-d899-55319680e195"
      },
      "source": [
        "def search_binary(sorted_array, target):\n",
        "\n",
        "    left = 0\n",
        "\n",
        "    right = len(sorted_array) - 1\n",
        "\n",
        "    while left <= right:\n",
        "\n",
        "        midpoint = left + (right - left) // 2\n",
        "\n",
        "        current = sorted_array[midpoint]\n",
        "\n",
        "        if current == target:\n",
        "\n",
        "            return midpoint\n",
        "\n",
        "        else:\n",
        "\n",
        "            if target < current:\n",
        "\n",
        "                right = midpoint - 1\n",
        "\n",
        "            else:\n",
        "\n",
        "                left = midpoint + 1\n",
        "\n",
        "    return None\n",
        "\n",
        " \n",
        "\n",
        "target = 8\n",
        "\n",
        "sorted_array = [0, 1, 2, 3, 4, 5]\n",
        "\n",
        "result = search_binary(sorted_array, target)\n",
        "\n",
        "if result is not None:\n",
        "\n",
        "    print('Value {} found at position {} using binary search'.format(target, result+1))\n",
        "\n",
        "else:\n",
        "\n",
        "    print('Not found')"
      ],
      "execution_count": 4,
      "outputs": [
        {
          "output_type": "stream",
          "text": [
            "Not found\n"
          ],
          "name": "stdout"
        }
      ]
    },
    {
      "cell_type": "code",
      "metadata": {
        "id": "98wbURo3HVug",
        "colab_type": "code",
        "colab": {}
      },
      "source": [
        ""
      ],
      "execution_count": 0,
      "outputs": []
    }
  ]
}